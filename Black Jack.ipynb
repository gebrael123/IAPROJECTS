{
 "cells": [
  {
   "cell_type": "markdown",
   "metadata": {},
   "source": [
    "# Criação de um agente inteligente que jogue Black jack atraves do método Monte Carlo"
   ]
  },
  {
   "cell_type": "code",
   "execution_count": 152,
   "metadata": {},
   "outputs": [],
   "source": [
    "import gym\n",
    "import random\n",
    "import pandas as pd\n",
    "import numpy as np\n",
    "from collections import defaultdict\n",
    "import time"
   ]
  },
  {
   "cell_type": "code",
   "execution_count": 153,
   "metadata": {},
   "outputs": [],
   "source": [
    "#Criação do ambiente\n",
    "env = gym.make(\"Blackjack-v0\")"
   ]
  },
  {
   "cell_type": "code",
   "execution_count": 154,
   "metadata": {},
   "outputs": [],
   "source": [
    "# Função responsavel por escolher se a acao escolhida pelo agente ou seja se é aleatoria ou não\n",
    "def policy():\n",
    "    epsilon = 0.5\n",
    "    if random.uniform(0,1) < epsilon:\n",
    "        return env.action_space.sample()\n",
    "    else:\n",
    "        # precisa criar um sistema para olhar no dataframe e escolher a melhor acao\n",
    "        #por enquanto esta acao será tambem aleatoria\n",
    "        return env.action_space.sample()        "
   ]
  },
  {
   "cell_type": "code",
   "execution_count": 167,
   "metadata": {},
   "outputs": [],
   "source": [
    "#Criacao de um episodio\n",
    "def ge_episode():\n",
    "    num_iteration = 10000\n",
    "    Confirmacao = []\n",
    "    State = []\n",
    "    Reward = []\n",
    "    Comand = []\n",
    "    state = env.reset()\n",
    "    for t in range (num_iteration):\n",
    "        comand = policy()\n",
    "        Comand.append(comand)\n",
    "        State.append(state)\n",
    "        Confirmacao.append((state, comand))\n",
    "        state, reward, done,_ = env.step(comand)\n",
    "        if done:\n",
    "            Reward.append(reward)\n",
    "            break\n",
    "    return (State, Reward, Comand, Confirmacao)"
   ]
  },
  {
   "cell_type": "code",
   "execution_count": 168,
   "metadata": {},
   "outputs": [],
   "source": [
    "#Criacao de varios episodios\n",
    "def num_episodes():\n",
    "    num_episodes = 10000\n",
    "    Confirmacao = []\n",
    "    State = []\n",
    "    Reward = []\n",
    "    N = []\n",
    "    Comand = []    \n",
    "    for t in range(num_episodes):\n",
    "        state, reward, comand, confirmacao = ge_episode()\n",
    "        for x in range (len(state)):\n",
    "            if not confirmacao[x] in Confirmacao:\n",
    "                Confirmacao.append(confirmacao[x])\n",
    "                State.append(state[x])\n",
    "                Reward.append(reward[0])\n",
    "                N.append(1)\n",
    "                Comand.append(comand[x])\n",
    "        else:\n",
    "            None\n",
    "    return(State, Reward, N, Comand, Confirmacao)"
   ]
  },
  {
   "cell_type": "code",
   "execution_count": 169,
   "metadata": {},
   "outputs": [],
   "source": [
    "#Criação de uma geração\n",
    "def generation():\n",
    "    geracao = 0\n",
    "    df = pandas()\n",
    "    print (geracao)\n",
    "    num_generation = 10\n",
    "    for x in range (num_generation - 1):\n",
    "        geracao += 1\n",
    "        df2 = pandas()\n",
    "        for t in range (len(df2)):\n",
    "            k = np.where(df['Confirmacao'] == df2['Confirmacao'][t])\n",
    "            k = np.array(k)\n",
    "            k = k[0]\n",
    "            if len(k) == 0:\n",
    "                df = df.append(df2.loc[t])\n",
    "            else:\n",
    "                df.iloc[k[0],3] = df.iloc[k[0],3] + df2.iloc[t,3]\n",
    "                df.iloc[k[0],4] = df.iloc[k[0],4] + df2.iloc[t,4]\n",
    "        print (geracao)\n",
    "        df[\"Q\"] = df[\"Total_Reward\"]/df[\"N\"]\n",
    "    return df\n",
    "        "
   ]
  },
  {
   "cell_type": "code",
   "execution_count": 170,
   "metadata": {},
   "outputs": [],
   "source": [
    "#Criaçao do dataframe que recebra o state, o comando do agente, a recompensa e o numero de vezes que aquela ação foi esolhida\n",
    "def pandas():\n",
    "    State, Reward, N, Comand, Confirmacao = num_episodes()\n",
    "    numpy_data = []\n",
    "    for x in range (len(State)):\n",
    "        numpy_data.append(np.array([Confirmacao[x], State[x], Comand[x], Reward[x], N[x]]))\n",
    "    df = pd.DataFrame(numpy_data, columns = [\"Confirmacao\", \"State\", \"Action\", \"Total_Reward\", \"N\"])\n",
    "    return df"
   ]
  },
  {
   "cell_type": "code",
   "execution_count": 171,
   "metadata": {},
   "outputs": [],
   "source": [
    "#Criação do jogador inteligente\n",
    "def jogador():\n",
    "    done = None\n",
    "    state = env.reset()\n",
    "    while (done != True):\n",
    "        t = np.where(df[\"State\"] == state)\n",
    "        x = df.iloc[t]\n",
    "        t = np.where(x[\"Q\"] == max(x[\"Q\"])) \n",
    "        z = x.iloc[t]\n",
    "        t = z.Action.values\n",
    "        state, reward,done , _ = env.step(t[0])\n",
    "    return (reward)"
   ]
  },
  {
   "cell_type": "code",
   "execution_count": 172,
   "metadata": {},
   "outputs": [],
   "source": [
    "#Resultado dos jogos jogados\n",
    "def resultado():\n",
    "    vitoria = 0\n",
    "    derrota = 0\n",
    "    empate = 0\n",
    "    for x in range(1000):\n",
    "        reward = jogador()\n",
    "        if reward == 0:\n",
    "            empate += 1\n",
    "        if reward == 1:\n",
    "            vitoria += 1\n",
    "        else:\n",
    "            derrota += 1\n",
    "    return (vitoria, derrota, empate)"
   ]
  },
  {
   "cell_type": "code",
   "execution_count": 174,
   "metadata": {},
   "outputs": [
    {
     "name": "stdout",
     "output_type": "stream",
     "text": [
      "0\n",
      "1\n",
      "2\n",
      "3\n",
      "4\n",
      "5\n",
      "6\n",
      "7\n",
      "8\n",
      "9\n"
     ]
    }
   ],
   "source": [
    "# Criação do dataframe \n",
    "df = generation()"
   ]
  },
  {
   "cell_type": "code",
   "execution_count": 175,
   "metadata": {},
   "outputs": [
    {
     "data": {
      "text/html": [
       "<div>\n",
       "<style scoped>\n",
       "    .dataframe tbody tr th:only-of-type {\n",
       "        vertical-align: middle;\n",
       "    }\n",
       "\n",
       "    .dataframe tbody tr th {\n",
       "        vertical-align: top;\n",
       "    }\n",
       "\n",
       "    .dataframe thead th {\n",
       "        text-align: right;\n",
       "    }\n",
       "</style>\n",
       "<table border=\"1\" class=\"dataframe\">\n",
       "  <thead>\n",
       "    <tr style=\"text-align: right;\">\n",
       "      <th></th>\n",
       "      <th>Confirmacao</th>\n",
       "      <th>State</th>\n",
       "      <th>Action</th>\n",
       "      <th>Total_Reward</th>\n",
       "      <th>N</th>\n",
       "      <th>Q</th>\n",
       "    </tr>\n",
       "  </thead>\n",
       "  <tbody>\n",
       "    <tr>\n",
       "      <th>0</th>\n",
       "      <td>((15, 9, False), 0)</td>\n",
       "      <td>(15, 9, False)</td>\n",
       "      <td>0</td>\n",
       "      <td>-4.0</td>\n",
       "      <td>10</td>\n",
       "      <td>-0.400000</td>\n",
       "    </tr>\n",
       "    <tr>\n",
       "      <th>1</th>\n",
       "      <td>((15, 6, False), 1)</td>\n",
       "      <td>(15, 6, False)</td>\n",
       "      <td>1</td>\n",
       "      <td>-4.0</td>\n",
       "      <td>10</td>\n",
       "      <td>-0.400000</td>\n",
       "    </tr>\n",
       "    <tr>\n",
       "      <th>2</th>\n",
       "      <td>((15, 10, True), 0)</td>\n",
       "      <td>(15, 10, True)</td>\n",
       "      <td>0</td>\n",
       "      <td>4.0</td>\n",
       "      <td>10</td>\n",
       "      <td>0.400000</td>\n",
       "    </tr>\n",
       "    <tr>\n",
       "      <th>3</th>\n",
       "      <td>((12, 5, True), 0)</td>\n",
       "      <td>(12, 5, True)</td>\n",
       "      <td>0</td>\n",
       "      <td>-5.0</td>\n",
       "      <td>9</td>\n",
       "      <td>-0.555556</td>\n",
       "    </tr>\n",
       "    <tr>\n",
       "      <th>4</th>\n",
       "      <td>((20, 1, False), 0)</td>\n",
       "      <td>(20, 1, False)</td>\n",
       "      <td>0</td>\n",
       "      <td>5.0</td>\n",
       "      <td>10</td>\n",
       "      <td>0.500000</td>\n",
       "    </tr>\n",
       "  </tbody>\n",
       "</table>\n",
       "</div>"
      ],
      "text/plain": [
       "           Confirmacao           State  Action  Total_Reward   N         Q\n",
       "0  ((15, 9, False), 0)  (15, 9, False)       0          -4.0  10 -0.400000\n",
       "1  ((15, 6, False), 1)  (15, 6, False)       1          -4.0  10 -0.400000\n",
       "2  ((15, 10, True), 0)  (15, 10, True)       0           4.0  10  0.400000\n",
       "3   ((12, 5, True), 0)   (12, 5, True)       0          -5.0   9 -0.555556\n",
       "4  ((20, 1, False), 0)  (20, 1, False)       0           5.0  10  0.500000"
      ]
     },
     "execution_count": 175,
     "metadata": {},
     "output_type": "execute_result"
    }
   ],
   "source": [
    "df.head()"
   ]
  },
  {
   "cell_type": "code",
   "execution_count": 176,
   "metadata": {},
   "outputs": [],
   "source": [
    "# teste do agente\n",
    "vitoria, derrota, empate = resultado()"
   ]
  },
  {
   "cell_type": "code",
   "execution_count": 177,
   "metadata": {},
   "outputs": [
    {
     "data": {
      "text/plain": [
       "403"
      ]
     },
     "execution_count": 177,
     "metadata": {},
     "output_type": "execute_result"
    }
   ],
   "source": [
    "vitoria"
   ]
  },
  {
   "cell_type": "code",
   "execution_count": 178,
   "metadata": {},
   "outputs": [
    {
     "data": {
      "text/plain": [
       "597"
      ]
     },
     "execution_count": 178,
     "metadata": {},
     "output_type": "execute_result"
    }
   ],
   "source": [
    "derrota"
   ]
  },
  {
   "cell_type": "code",
   "execution_count": 179,
   "metadata": {},
   "outputs": [
    {
     "data": {
      "text/plain": [
       "67"
      ]
     },
     "execution_count": 179,
     "metadata": {},
     "output_type": "execute_result"
    }
   ],
   "source": [
    "empate"
   ]
  }
 ],
 "metadata": {
  "kernelspec": {
   "display_name": "Python 3",
   "language": "python",
   "name": "python3"
  },
  "language_info": {
   "codemirror_mode": {
    "name": "ipython",
    "version": 3
   },
   "file_extension": ".py",
   "mimetype": "text/x-python",
   "name": "python",
   "nbconvert_exporter": "python",
   "pygments_lexer": "ipython3",
   "version": "3.7.7"
  }
 },
 "nbformat": 4,
 "nbformat_minor": 4
}
