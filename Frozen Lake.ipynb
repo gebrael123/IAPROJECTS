{
 "cells": [
  {
   "cell_type": "markdown",
   "metadata": {},
   "source": [
    "# Resolvendo Frozen Lake com Bellman Equation"
   ]
  },
  {
   "cell_type": "markdown",
   "metadata": {},
   "source": [
    "### O jogo Frozen Lake tem como objetivo principal passar por um \"labirinto\" congelado, sem que o personagem caia em um buraco \n",
    "\n",
    "### O ambiente frozen lake é composto por 4 valores:\n",
    "\n",
    "### S - Inicio (start)\n",
    "\n",
    "### F - Ambiente Congelado ( Frozen)\n",
    "\n",
    "### H - Ambiente que contem um buraco (Hole)\n",
    "\n",
    "### G - É o Objetivo (Goal)"
   ]
  },
  {
   "cell_type": "code",
   "execution_count": 72,
   "metadata": {},
   "outputs": [],
   "source": [
    "import gym\n",
    "import numpy as np"
   ]
  },
  {
   "cell_type": "code",
   "execution_count": 74,
   "metadata": {},
   "outputs": [],
   "source": [
    "# criação do ambiente\n",
    "env = gym.make(\"FrozenLake-v0\")"
   ]
  },
  {
   "cell_type": "code",
   "execution_count": 75,
   "metadata": {},
   "outputs": [
    {
     "data": {
      "text/plain": [
       "0"
      ]
     },
     "execution_count": 75,
     "metadata": {},
     "output_type": "execute_result"
    }
   ],
   "source": [
    "# reset do ambiente\n",
    "env.reset()"
   ]
  },
  {
   "cell_type": "code",
   "execution_count": 76,
   "metadata": {},
   "outputs": [
    {
     "name": "stdout",
     "output_type": "stream",
     "text": [
      "\n",
      "\u001b[41mS\u001b[0mFFF\n",
      "FHFH\n",
      "FFFH\n",
      "HFFG\n"
     ]
    }
   ],
   "source": [
    "# renderização do ambiente\n",
    "env.render()"
   ]
  },
  {
   "cell_type": "code",
   "execution_count": 94,
   "metadata": {},
   "outputs": [],
   "source": [
    "# cria uma função (Bellman) para encontrar o valor otimizado de cada um dos 16 estados do jogo Fronze-Lake\n",
    "def value_iteration(env):\n",
    "    # Numero de vezes que ira interagir com o jogo\n",
    "    num_iterations = 1000\n",
    "    #Valor que limita se a funcao está pronta \n",
    "    threshold = 1e-20\n",
    "    # define o gamma\n",
    "    gamma = 1.0    \n",
    "    # Cria um array com o comprimento de 16 (todos os estados possiveis de percorrer no jogo) \n",
    "    value_table = np.zeros(env.observation_space.n)\n",
    "    \n",
    "    for i in range(num_iterations):\n",
    "        # Cria uma copia de value_table, essa variavel é ultilizada na formula de otimização \n",
    "        updated_value_table = np.copy(value_table) \n",
    "             \n",
    "        for s in range(env.observation_space.n):\n",
    "            # Q e um array com 4 resultados onde cada resultado e uma ação (cima,baixo,esquerda,direita)\n",
    "            # a ideia dessa funcao é interagir com o cenário diversar vezes e encontrar a melhor ação para cada um dos 16 estados\n",
    "            Q_values = [sum([prob*(r + gamma * updated_value_table[s_])\n",
    "                                 for prob, s_, r, _ in env.P[s][a]])\n",
    "                                   for a in range(env.action_space.n)]\n",
    "                                        \n",
    "            value_table[s] = max(Q_values)\n",
    "                    \n",
    "        # caso o valor Q esteja otimizado a função sera finzaliada e será retornado a tabela com os valores otimizados \n",
    "        if (np.sum(np.fabs(updated_value_table - value_table)) <= threshold):\n",
    "            break\n",
    "    \n",
    "    return value_table"
   ]
  },
  {
   "cell_type": "code",
   "execution_count": 95,
   "metadata": {},
   "outputs": [],
   "source": [
    "# essa função retorna o melhor comando possivel para cada um dos 16 estados \n",
    "def extract_policy (value_table):\n",
    "    gamma = 1.0\n",
    "    \n",
    "    policy = np.zeros(env.observation_space.n)\n",
    "    for s in range (env.observation_space.n):\n",
    "        Q_values = [sum([prob*(r + gamma * value_table[s_])\n",
    "                        for prob, s_, r, _ in env.P[s][a]])\n",
    "                            for a in range(env.action_space.n)]\n",
    "        policy[s] = np.argmax(np.array(Q_values))\n",
    "    return policy"
   ]
  },
  {
   "cell_type": "code",
   "execution_count": 71,
   "metadata": {},
   "outputs": [
    {
     "name": "stdout",
     "output_type": "stream",
     "text": [
      "[0. 3. 3. 3. 0. 0. 0. 0. 3. 1. 0. 0. 0. 2. 1. 0.]\n"
     ]
    }
   ],
   "source": [
    "# o resultado é o melhor comnado que deve ser inserido para percorrer o lago sem cair em um buraco\n",
    "optimal_value_function = value_iteration(env)\n",
    "optimal_policy = extract_policy(optimal_value_function)\n",
    "print (optimal_policy)"
   ]
  },
  {
   "cell_type": "code",
   "execution_count": 100,
   "metadata": {},
   "outputs": [],
   "source": [
    "# Testando o resultado\n",
    "t = 0\n",
    "for h in range(100):\n",
    "    env.reset()\n",
    "    ###env.render()\n",
    "    l = env.step(int(optimal_policy[0]))\n",
    "    ###env.render()\n",
    "    for x in range (1000):\n",
    "        ###print (\"episode: {}\" .format (h))\n",
    "        l = env.step(int(optimal_policy[l[0]]))\n",
    "        ###env.render()\n",
    "        if int(l[0]) == 15:\n",
    "            t += 1\n",
    "            break"
   ]
  },
  {
   "cell_type": "code",
   "execution_count": 101,
   "metadata": {},
   "outputs": [
    {
     "name": "stdout",
     "output_type": "stream",
     "text": [
      "O agente completou com sucesso 90.0 % das tentativas\n"
     ]
    }
   ],
   "source": [
    "# A porcentagem de acerto pode varia cada vez que o codigo é executado.\n",
    "print(\"O agente completou com sucesso {} % das tentativas\" .format((t/100 * 100)))"
   ]
  }
 ],
 "metadata": {
  "kernelspec": {
   "display_name": "Python 3",
   "language": "python",
   "name": "python3"
  },
  "language_info": {
   "codemirror_mode": {
    "name": "ipython",
    "version": 3
   },
   "file_extension": ".py",
   "mimetype": "text/x-python",
   "name": "python",
   "nbconvert_exporter": "python",
   "pygments_lexer": "ipython3",
   "version": "3.7.7"
  }
 },
 "nbformat": 4,
 "nbformat_minor": 4
}
